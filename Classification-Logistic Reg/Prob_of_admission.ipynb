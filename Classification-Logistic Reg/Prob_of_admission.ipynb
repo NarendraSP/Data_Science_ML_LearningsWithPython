{
  "nbformat": 4,
  "nbformat_minor": 0,
  "metadata": {
    "colab": {
      "name": "Prob of admission.ipynb",
      "provenance": []
    },
    "kernelspec": {
      "name": "python3",
      "display_name": "Python 3"
    }
  },
  "cells": [
    {
      "cell_type": "markdown",
      "metadata": {
        "id": "rHbwCE_dZi7b",
        "colab_type": "text"
      },
      "source": [
        "Importing Modules"
      ]
    },
    {
      "cell_type": "code",
      "metadata": {
        "id": "TKOS5xZzTCPV",
        "colab_type": "code",
        "colab": {}
      },
      "source": [
        "import numpy as np\n",
        "import matplotlib.pyplot as plt\n",
        "import pandas as pd\n",
        "from scipy.optimize import minimize\n"
      ],
      "execution_count": 0,
      "outputs": []
    },
    {
      "cell_type": "markdown",
      "metadata": {
        "id": "DvBNJ7oAZmXY",
        "colab_type": "text"
      },
      "source": [
        "Importing Data"
      ]
    },
    {
      "cell_type": "code",
      "metadata": {
        "id": "VWKzWH9IUXGd",
        "colab_type": "code",
        "outputId": "08b8ec58-b9b0-4122-9b0c-6694d6e38949",
        "colab": {
          "base_uri": "https://localhost:8080/",
          "height": 195
        }
      },
      "source": [
        "data = pd.read_csv('https://raw.githubusercontent.com/lalitgarg12/Machine-Learning/master/ex2/ex2data1.txt', names=['x1','x2','y'])\n",
        "data.head()"
      ],
      "execution_count": 0,
      "outputs": [
        {
          "output_type": "execute_result",
          "data": {
            "text/html": [
              "<div>\n",
              "<style scoped>\n",
              "    .dataframe tbody tr th:only-of-type {\n",
              "        vertical-align: middle;\n",
              "    }\n",
              "\n",
              "    .dataframe tbody tr th {\n",
              "        vertical-align: top;\n",
              "    }\n",
              "\n",
              "    .dataframe thead th {\n",
              "        text-align: right;\n",
              "    }\n",
              "</style>\n",
              "<table border=\"1\" class=\"dataframe\">\n",
              "  <thead>\n",
              "    <tr style=\"text-align: right;\">\n",
              "      <th></th>\n",
              "      <th>x1</th>\n",
              "      <th>x2</th>\n",
              "      <th>y</th>\n",
              "    </tr>\n",
              "  </thead>\n",
              "  <tbody>\n",
              "    <tr>\n",
              "      <th>0</th>\n",
              "      <td>34.623660</td>\n",
              "      <td>78.024693</td>\n",
              "      <td>0</td>\n",
              "    </tr>\n",
              "    <tr>\n",
              "      <th>1</th>\n",
              "      <td>30.286711</td>\n",
              "      <td>43.894998</td>\n",
              "      <td>0</td>\n",
              "    </tr>\n",
              "    <tr>\n",
              "      <th>2</th>\n",
              "      <td>35.847409</td>\n",
              "      <td>72.902198</td>\n",
              "      <td>0</td>\n",
              "    </tr>\n",
              "    <tr>\n",
              "      <th>3</th>\n",
              "      <td>60.182599</td>\n",
              "      <td>86.308552</td>\n",
              "      <td>1</td>\n",
              "    </tr>\n",
              "    <tr>\n",
              "      <th>4</th>\n",
              "      <td>79.032736</td>\n",
              "      <td>75.344376</td>\n",
              "      <td>1</td>\n",
              "    </tr>\n",
              "  </tbody>\n",
              "</table>\n",
              "</div>"
            ],
            "text/plain": [
              "          x1         x2  y\n",
              "0  34.623660  78.024693  0\n",
              "1  30.286711  43.894998  0\n",
              "2  35.847409  72.902198  0\n",
              "3  60.182599  86.308552  1\n",
              "4  79.032736  75.344376  1"
            ]
          },
          "metadata": {
            "tags": []
          },
          "execution_count": 2
        }
      ]
    },
    {
      "cell_type": "markdown",
      "metadata": {
        "id": "ZFms789bZpv6",
        "colab_type": "text"
      },
      "source": [
        "Printing X and y values and their shapes"
      ]
    },
    {
      "cell_type": "code",
      "metadata": {
        "id": "ACUjd4mgW8_l",
        "colab_type": "code",
        "outputId": "0b170296-aefa-4d8f-ca8b-a4298c3168ac",
        "colab": {
          "base_uri": "https://localhost:8080/",
          "height": 151
        }
      },
      "source": [
        "X = np.asarray(data[[\"x1\",\"x2\"]])\n",
        "y = np.asarray(data[\"y\"])\n",
        "print(X[:5])\n",
        "print(y[:5])\n",
        "print(X.shape)\n",
        "print(y.shape)"
      ],
      "execution_count": 0,
      "outputs": [
        {
          "output_type": "stream",
          "text": [
            "[[34.62365962 78.02469282]\n",
            " [30.28671077 43.89499752]\n",
            " [35.84740877 72.90219803]\n",
            " [60.18259939 86.3085521 ]\n",
            " [79.03273605 75.34437644]]\n",
            "[0 0 0 1 1]\n",
            "(100, 2)\n",
            "(100,)\n"
          ],
          "name": "stdout"
        }
      ]
    },
    {
      "cell_type": "markdown",
      "metadata": {
        "id": "lDXt-W7uZuCA",
        "colab_type": "text"
      },
      "source": [
        "Defining plot function and printing initial 2D plot of data to visualize how it looks like."
      ]
    },
    {
      "cell_type": "code",
      "metadata": {
        "id": "tSckLXf4YArh",
        "colab_type": "code",
        "colab": {}
      },
      "source": [
        "def plotData(X, y):\n",
        "    pos = X[np.where(y==1)]\n",
        "    neg = X[np.where(y==0)]\n",
        "    fig, ax = plt.subplots()\n",
        "    ax.plot(pos[:,0],pos[:,1],\"k+\",neg[:,0],neg[:,1],\"yo\")\n",
        "    return (fig, ax)"
      ],
      "execution_count": 0,
      "outputs": []
    },
    {
      "cell_type": "code",
      "metadata": {
        "id": "mBJh1aWbYFcB",
        "colab_type": "code",
        "outputId": "3c043cd0-eaab-42d0-fae8-e7c688179df5",
        "colab": {
          "base_uri": "https://localhost:8080/",
          "height": 282
        }
      },
      "source": [
        "print(\"Plotting data with + indicating (y = 1) examples and o indicating\",\n",
        "\" (y =0) examples.\")\n",
        "fig, ax = plotData(X, y)\n",
        "ax.legend(['Admitted', 'Not admitted'])\n",
        "fig.show()\n"
      ],
      "execution_count": 0,
      "outputs": [
        {
          "output_type": "stream",
          "text": [
            "Plotting data with + indicating (y = 1) examples and o indicating  (y =0) examples.\n"
          ],
          "name": "stdout"
        },
        {
          "output_type": "display_data",
          "data": {
            "image/png": "[encoded data removed]",
            "text/plain": [
              "<Figure size 432x288 with 1 Axes>"
            ]
          },
          "metadata": {
            "tags": []
          }
        }
      ]
    },
    {
      "cell_type": "markdown",
      "metadata": {
        "id": "7-IfHsHsZ1Wp",
        "colab_type": "text"
      },
      "source": [
        "Defining sigmoid function and its plot."
      ]
    },
    {
      "cell_type": "code",
      "metadata": {
        "id": "n2RegouyYJzu",
        "colab_type": "code",
        "colab": {}
      },
      "source": [
        "def sigmoid(z):\n",
        "    return 1.0/(1 +  np.e**(-z))"
      ],
      "execution_count": 0,
      "outputs": []
    },
    {
      "cell_type": "code",
      "metadata": {
        "id": "PmqvDhODYftr",
        "colab_type": "code",
        "outputId": "44efc104-cf52-4409-be50-60ceb119859f",
        "colab": {
          "base_uri": "https://localhost:8080/",
          "height": 416
        }
      },
      "source": [
        "fig, ax = plt.subplots(figsize=(8, 6))\n",
        "ax.plot(np.arange(-10, 10, step=0.01),\n",
        "        sigmoid(np.arange(-10, 10, step=0.01)))\n",
        "ax.set_ylim((-0.1,1.1))\n",
        "ax.set_xlabel('z', fontsize=18)\n",
        "ax.set_ylabel('g(z)', fontsize=18)\n",
        "ax.set_title('sigmoid function', fontsize=18)\n",
        "plt.show()\n"
      ],
      "execution_count": 0,
      "outputs": [
        {
          "output_type": "display_data",
          "data": {
            "image/png": "[encoded data removed]",
            "text/plain": [
              "<Figure size 576x432 with 1 Axes>"
            ]
          },
          "metadata": {
            "tags": []
          }
        }
      ]
    },
    {
      "cell_type": "markdown",
      "metadata": {
        "id": "ecH1IuyxZ5Lg",
        "colab_type": "text"
      },
      "source": [
        "Defining cost function on the input features and assumed theta values."
      ]
    },
    {
      "cell_type": "code",
      "metadata": {
        "id": "C2XOO8h0YqCr",
        "colab_type": "code",
        "colab": {}
      },
      "source": [
        "def costFunction(theta,X,y):\n",
        "    m = len(y) \n",
        "    J =(np.sum(-y*np.log(sigmoid(np.dot(X,theta)))-\n",
        "       (1-y)*(np.log(1-sigmoid(np.dot(X,theta)))))/m)\n",
        "    grad = (np.sum((sigmoid(np.dot(X,theta))-y)[:,None]*X,axis=0)/m)\n",
        "    return (J, grad)\n"
      ],
      "execution_count": 0,
      "outputs": []
    },
    {
      "cell_type": "markdown",
      "metadata": {
        "id": "Q-c09Yg7aBpf",
        "colab_type": "text"
      },
      "source": [
        "Defining prediction function based on new optimized theta parameters."
      ]
    },
    {
      "cell_type": "code",
      "metadata": {
        "id": "rBPJlUVmYwpr",
        "colab_type": "code",
        "colab": {}
      },
      "source": [
        "def predict(theta,X):\n",
        "    \"\"\"\n",
        "    Given a vector of parameter results and training set X,\n",
        "    returns the model prediction for admission. If predicted\n",
        "    probability of admission is greater than .5, predict will\n",
        "    return a value of 1.\n",
        "    \"\"\"\n",
        "    return np.where(np.dot(X,theta) > 5.,1,0)"
      ],
      "execution_count": 0,
      "outputs": []
    },
    {
      "cell_type": "markdown",
      "metadata": {
        "id": "KuT5oWwSaHIJ",
        "colab_type": "text"
      },
      "source": [
        "Preprocessing of X and y vectors for performing Logistic Regression.\n",
        "\n",
        "Calculating cost based on cost function defined above."
      ]
    },
    {
      "cell_type": "code",
      "metadata": {
        "id": "zciRYoxUY1zr",
        "colab_type": "code",
        "outputId": "7c0372b4-6ee0-4da0-91c0-c1e884ecc3d2",
        "colab": {
          "base_uri": "https://localhost:8080/",
          "height": 84
        }
      },
      "source": [
        "# Add intercept term to x and X_test\n",
        "X = np.hstack((np.ones_like(y)[:,None],X))\n",
        "initial_theta = np.zeros(3)\n",
        "cost, grad = costFunction(initial_theta, X, y)\n",
        "\n",
        "print('Cost at initial theta (zeros): \\n', cost)\n",
        "print('Gradient at initial theta (zeros): \\n',grad)"
      ],
      "execution_count": 0,
      "outputs": [
        {
          "output_type": "stream",
          "text": [
            "Cost at initial theta (zeros): \n",
            " 0.6931471805599453\n",
            "Gradient at initial theta (zeros): \n",
            " [ -0.1        -12.00921659 -11.26284221]\n"
          ],
          "name": "stdout"
        }
      ]
    },
    {
      "cell_type": "markdown",
      "metadata": {
        "id": "6q9JABBHaUhn",
        "colab_type": "text"
      },
      "source": [
        "Performing cost optimization based on scipy library function (Minimize)"
      ]
    },
    {
      "cell_type": "code",
      "metadata": {
        "id": "oiCizCskY_im",
        "colab_type": "code",
        "outputId": "0a360d41-05d8-4028-ea74-692fd8f7ac24",
        "colab": {
          "base_uri": "https://localhost:8080/",
          "height": 118
        }
      },
      "source": [
        "res = minimize(costFunction,\n",
        "\t       initial_theta,\n",
        "\t       method='Newton-CG',\n",
        "\t       args=(X,y),\n",
        "\t       jac=True, \n",
        "\t       options={'maxiter':400,\n",
        "\t\t\t'disp':True})\n"
      ],
      "execution_count": 0,
      "outputs": [
        {
          "output_type": "stream",
          "text": [
            "Optimization terminated successfully.\n",
            "         Current function value: 0.203498\n",
            "         Iterations: 30\n",
            "         Function evaluations: 74\n",
            "         Gradient evaluations: 267\n",
            "         Hessian evaluations: 0\n"
          ],
          "name": "stdout"
        }
      ]
    },
    {
      "cell_type": "markdown",
      "metadata": {
        "id": "inXyWi28aa9_",
        "colab_type": "text"
      },
      "source": [
        "Updating theta parameters based on minimize cost"
      ]
    },
    {
      "cell_type": "code",
      "metadata": {
        "id": "sNV9QcfoZHBC",
        "colab_type": "code",
        "outputId": "c5ba6a19-34ce-4ec1-ddfa-cbde8f058e8e",
        "colab": {
          "base_uri": "https://localhost:8080/",
          "height": 84
        }
      },
      "source": [
        "theta = res.x\n",
        "print('Cost at theta found by minimize: \\n', res.fun)\n",
        "print('theta: \\n', theta)"
      ],
      "execution_count": 0,
      "outputs": [
        {
          "output_type": "stream",
          "text": [
            "Cost at theta found by minimize: \n",
            " 0.2034977017500866\n",
            "theta: \n",
            " [-25.16237296   0.20624003   0.20148001]\n"
          ],
          "name": "stdout"
        }
      ]
    },
    {
      "cell_type": "markdown",
      "metadata": {
        "id": "xATMwVOmafVC",
        "colab_type": "text"
      },
      "source": [
        "Defining plotting decision boundary function based on theta parameters on the probability of 0.5"
      ]
    },
    {
      "cell_type": "code",
      "metadata": {
        "id": "9vYYh4OKZLXi",
        "colab_type": "code",
        "colab": {}
      },
      "source": [
        "def plotDecisionBoundary(theta,X,y):\n",
        "    \"\"\"X is asssumed to be either:\n",
        "        1) Mx3 matrix where the first column is all ones for the intercept\n",
        "        2) MxN with N>3, where the first column is all ones\n",
        "    \"\"\"\n",
        "    fig, ax = plotData(X[:,1:],y)\n",
        "    if len(X[0]<=3):\n",
        "# Choose two endpoints and plot the line between them\n",
        "        plot_x = np.array([min(X[:,1])-2,max(X[:,2])+2])\n",
        "        plot_y = np.array(-1/theta[2])*(theta[1]*plot_x + theta[0])\n",
        "        ax.plot(plot_x,plot_y)\n",
        "        ax.legend(['Admitted','Fail','Pass'])\n",
        "        ax.set_xbound(30,100)\n",
        "        ax.set_ybound(30,100)\n",
        "    else:\n",
        "# Create grid space\n",
        "        u = np.linspace(-1,1.5,50)\n",
        "        v = np.linspace(-1,1.5,50)\n",
        "        z = np.zeros((len(u),len(v)))\n",
        "# Evaluate z = theta*x over values in the gridspace\n",
        "        for i in range(len(u)):\n",
        "            for j in range(len(v)):\n",
        "                z[i][j] = np.dot(mapFeatureVector(np.array([u[i]]),np.array([v[j]])),theta) \n",
        "# Plot contour\n",
        "        ax.contour(u,v,z,levels=[0])\n",
        "    return (fig,ax)\n"
      ],
      "execution_count": 0,
      "outputs": []
    },
    {
      "cell_type": "markdown",
      "metadata": {
        "id": "RpaiduOIap1X",
        "colab_type": "text"
      },
      "source": [
        "Plotting decision boundary line"
      ]
    },
    {
      "cell_type": "code",
      "metadata": {
        "id": "ELzvaTamZP6r",
        "colab_type": "code",
        "outputId": "bce9f59c-8606-4940-e89c-dcb78c275d48",
        "colab": {
          "base_uri": "https://localhost:8080/",
          "height": 269
        }
      },
      "source": [
        "plotDecisionBoundary(theta, X, y)\n",
        "plt.show()\n"
      ],
      "execution_count": 0,
      "outputs": [
        {
          "output_type": "display_data",
          "data": {
            "image/png": "[encoded data removed]",
            "text/plain": [
              "<Figure size 432x288 with 1 Axes>"
            ]
          },
          "metadata": {
            "tags": []
          }
        }
      ]
    },
    {
      "cell_type": "markdown",
      "metadata": {
        "id": "IKGjhpFYasuH",
        "colab_type": "text"
      },
      "source": [
        "Making predictions based on optimized theta parameters learned by logistic regression model"
      ]
    },
    {
      "cell_type": "code",
      "metadata": {
        "id": "2oO7p5WcZVNa",
        "colab_type": "code",
        "outputId": "ec25456f-87de-40b2-b9cf-f19f45e0d7a6",
        "colab": {
          "base_uri": "https://localhost:8080/",
          "height": 34
        }
      },
      "source": [
        "prob = sigmoid(np.dot([1,45,85],theta))\n",
        "print('For a student with scores 45 and 85, we predict an ',\n",
        "      'admission probability of ', prob)\n"
      ],
      "execution_count": 0,
      "outputs": [
        {
          "output_type": "stream",
          "text": [
            "For a student with scores 45 and 85, we predict an  admission probability of  0.7762993033047331\n"
          ],
          "name": "stdout"
        }
      ]
    },
    {
      "cell_type": "markdown",
      "metadata": {
        "id": "TEuRL-N8azOJ",
        "colab_type": "text"
      },
      "source": [
        "Predicting the accuracy of the model based on how accurate the prediction is."
      ]
    },
    {
      "cell_type": "code",
      "metadata": {
        "id": "uKHjUwVXZZIU",
        "colab_type": "code",
        "outputId": "47338c07-5f01-4933-b5fb-ef8fd8014495",
        "colab": {
          "base_uri": "https://localhost:8080/",
          "height": 50
        }
      },
      "source": [
        "# Compute accuracy on our training set\n",
        "p = predict(theta, X)\n",
        "\n",
        "print('Train Accuracy: \\n', np.mean(p==y)*100)"
      ],
      "execution_count": 0,
      "outputs": [
        {
          "output_type": "stream",
          "text": [
            "Train Accuracy: \n",
            " 69.0\n"
          ],
          "name": "stdout"
        }
      ]
    },
    {
      "cell_type": "code",
      "metadata": {
        "id": "o0pn9f4XZcKY",
        "colab_type": "code",
        "colab": {}
      },
      "source": [
        ""
      ],
      "execution_count": 0,
      "outputs": []
    }
  ]
}